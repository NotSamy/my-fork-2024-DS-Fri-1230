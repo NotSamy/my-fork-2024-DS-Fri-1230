{
 "cells": [
  {
   "cell_type": "markdown",
   "metadata": {},
   "source": [
    "# First print your name in the cell below then save this file. (or something nice about your instructor)"
   ]
  },
  {
   "cell_type": "code",
   "execution_count": 1,
   "metadata": {},
   "outputs": [
    {
     "name": "stdout",
     "output_type": "stream",
     "text": [
      "Sam Chen\n",
      "Georgios is very intelligent\n"
     ]
    }
   ],
   "source": [
    "# In this cell print your name \n",
    "print('Sam Chen')\n",
    "print('Georgios is very intelligent')"
   ]
  },
  {
   "cell_type": "markdown",
   "metadata": {},
   "source": [
    "# Data wrangling with Pandas exercise\n",
    "* For this exercise we will be using the `listings.csv` data file."
   ]
  },
  {
   "cell_type": "code",
   "execution_count": 2,
   "metadata": {},
   "outputs": [],
   "source": [
    "import pandas as pd\n",
    "import numpy as np"
   ]
  },
  {
   "cell_type": "markdown",
   "metadata": {},
   "source": [
    "# Load in the data file using `pd.read_csv()`"
   ]
  },
  {
   "cell_type": "code",
   "execution_count": 3,
   "metadata": {},
   "outputs": [],
   "source": [
    "df = pd.read_csv('data/listings.csv')"
   ]
  },
  {
   "cell_type": "markdown",
   "metadata": {},
   "source": [
    "## Exercise 2 - Filtering\n",
    "\n",
    "Return the following subsets of the dataframe.\n",
    "\n",
    "1. How many listings are there with a price less than 100? \n",
    "\n",
    "\n",
    "2. Find how many listings there are in just Brooklyn.\n",
    "\n",
    "\n",
    "3. Find how many listings there are in Brooklyn with a price less than 100.\n",
    "\n",
    "\n",
    "4. Using `.isin()` select anyone that has the host name of Michael, David, John, and Daniel.\n",
    "\n",
    "\n",
    "5. Create a new column called `adjusted_price` that has $100 added to every listing in Williamsburg.  The prices for all other listings should be the same as the were before. \n",
    "\n",
    "\n",
    "6. What % of the rooms are private, and what % of the rooms are shared.  \n",
    "    * Hint, use `.value_counts()`\n"
   ]
  },
  {
   "cell_type": "code",
   "execution_count": 21,
   "metadata": {},
   "outputs": [
    {
     "name": "stdout",
     "output_type": "stream",
     "text": [
      "There are  22778 listings\n"
     ]
    }
   ],
   "source": [
    "condition1 = df['price'] < 100\n",
    "\n",
    "listingCount = len(df[condition1])\n",
    "\n",
    "print(\"There are \", listingCount, \"listings\")"
   ]
  },
  {
   "cell_type": "code",
   "execution_count": 25,
   "metadata": {},
   "outputs": [
    {
     "name": "stdout",
     "output_type": "stream",
     "text": [
      "There are  18632 listings\n"
     ]
    }
   ],
   "source": [
    "# 2. Make a new DataFrame of listings in Brooklyn named `df_bk` \n",
    "# and find how many listings in just Brooklyn.\n",
    "\n",
    "condition2 = df['neighbourhood_group'] == 'Brooklyn'\n",
    "\n",
    "bListingCount = len(df[condition2])\n",
    "\n",
    "print(\"There are \",bListingCount, \"listings\")"
   ]
  },
  {
   "cell_type": "code",
   "execution_count": 26,
   "metadata": {},
   "outputs": [
    {
     "name": "stdout",
     "output_type": "stream",
     "text": [
      "There are  10473 listings in Brooklyn with a price lower than 100\n"
     ]
    },
    {
     "name": "stderr",
     "output_type": "stream",
     "text": [
      "C:\\Users\\chens\\AppData\\Local\\Temp\\ipykernel_21628\\1831998448.py:2: UserWarning: Boolean Series key will be reindexed to match DataFrame index.\n",
      "  bpListingCount = len(df[condition1][condition2])\n"
     ]
    }
   ],
   "source": [
    "# 3. Find how many listings there are in Brooklyn with a price less than 100.\n",
    "bpListingCount = len(df[condition1][condition2])\n",
    "\n",
    "print(\"There are \",bpListingCount, \"listings in Brooklyn with a price lower than 100\")\n",
    "\n"
   ]
  },
  {
   "cell_type": "code",
   "execution_count": 35,
   "metadata": {},
   "outputs": [
    {
     "name": "stdout",
     "output_type": "stream",
     "text": [
      "There are  874 that has the host name of Michael, David, John, and Daniel\n"
     ]
    }
   ],
   "source": [
    "# 4. Using `.isin()` select anyone that has the host name of Michael, David, John, and Daniel.\n",
    "# How many total are there that have those names\n",
    "host = [\"Micheal\" , \"David\" , \"John\" , \"Daniel\"]\n",
    "conditionN = df.host_name.isin(host)\n",
    "hostNListingCount = len(df[conditionN])\n",
    "\n",
    "print(\"There are \",hostNListingCount, \"that has the host name of Michael, David, John, and Daniel\")\n"
   ]
  },
  {
   "cell_type": "code",
   "execution_count": 40,
   "metadata": {},
   "outputs": [
    {
     "data": {
      "text/html": [
       "<div>\n",
       "<style scoped>\n",
       "    .dataframe tbody tr th:only-of-type {\n",
       "        vertical-align: middle;\n",
       "    }\n",
       "\n",
       "    .dataframe tbody tr th {\n",
       "        vertical-align: top;\n",
       "    }\n",
       "\n",
       "    .dataframe thead th {\n",
       "        text-align: right;\n",
       "    }\n",
       "</style>\n",
       "<table border=\"1\" class=\"dataframe\">\n",
       "  <thead>\n",
       "    <tr style=\"text-align: right;\">\n",
       "      <th></th>\n",
       "      <th>id</th>\n",
       "      <th>name</th>\n",
       "      <th>host_id</th>\n",
       "      <th>host_name</th>\n",
       "      <th>neighbourhood_group</th>\n",
       "      <th>neighbourhood</th>\n",
       "      <th>latitude</th>\n",
       "      <th>longitude</th>\n",
       "      <th>room_type</th>\n",
       "      <th>price</th>\n",
       "      <th>minimum_nights</th>\n",
       "      <th>number_of_reviews</th>\n",
       "      <th>last_review</th>\n",
       "      <th>reviews_per_month</th>\n",
       "      <th>calculated_host_listings_count</th>\n",
       "      <th>availability_365</th>\n",
       "      <th>adjusted_price</th>\n",
       "    </tr>\n",
       "  </thead>\n",
       "  <tbody>\n",
       "    <tr>\n",
       "      <th>11</th>\n",
       "      <td>6848</td>\n",
       "      <td>Only 2 stops to Manhattan studio</td>\n",
       "      <td>15991</td>\n",
       "      <td>Allen &amp; Irina</td>\n",
       "      <td>Brooklyn</td>\n",
       "      <td>Williamsburg</td>\n",
       "      <td>40.70837</td>\n",
       "      <td>-73.95352</td>\n",
       "      <td>Entire home/apt</td>\n",
       "      <td>109</td>\n",
       "      <td>2</td>\n",
       "      <td>181</td>\n",
       "      <td>2020-03-16</td>\n",
       "      <td>1.32</td>\n",
       "      <td>1</td>\n",
       "      <td>0</td>\n",
       "      <td>209.0</td>\n",
       "    </tr>\n",
       "    <tr>\n",
       "      <th>15</th>\n",
       "      <td>7801</td>\n",
       "      <td>Sweet and Spacious Brooklyn Loft</td>\n",
       "      <td>21207</td>\n",
       "      <td>Chaya</td>\n",
       "      <td>Brooklyn</td>\n",
       "      <td>Williamsburg</td>\n",
       "      <td>40.71842</td>\n",
       "      <td>-73.95718</td>\n",
       "      <td>Entire home/apt</td>\n",
       "      <td>299</td>\n",
       "      <td>3</td>\n",
       "      <td>9</td>\n",
       "      <td>2011-12-28</td>\n",
       "      <td>0.07</td>\n",
       "      <td>1</td>\n",
       "      <td>337</td>\n",
       "      <td>399.0</td>\n",
       "    </tr>\n",
       "    <tr>\n",
       "      <th>35</th>\n",
       "      <td>14290</td>\n",
       "      <td>* ORIGINAL BROOKLYN LOFT *</td>\n",
       "      <td>56104</td>\n",
       "      <td>James</td>\n",
       "      <td>Brooklyn</td>\n",
       "      <td>Williamsburg</td>\n",
       "      <td>40.70420</td>\n",
       "      <td>-73.93560</td>\n",
       "      <td>Entire home/apt</td>\n",
       "      <td>131</td>\n",
       "      <td>3</td>\n",
       "      <td>95</td>\n",
       "      <td>2020-05-28</td>\n",
       "      <td>0.73</td>\n",
       "      <td>1</td>\n",
       "      <td>164</td>\n",
       "      <td>231.0</td>\n",
       "    </tr>\n",
       "    <tr>\n",
       "      <th>38</th>\n",
       "      <td>14377</td>\n",
       "      <td>Williamsburg 1 bedroom Apartment</td>\n",
       "      <td>56512</td>\n",
       "      <td>Joanna</td>\n",
       "      <td>Brooklyn</td>\n",
       "      <td>Williamsburg</td>\n",
       "      <td>40.70881</td>\n",
       "      <td>-73.95930</td>\n",
       "      <td>Entire home/apt</td>\n",
       "      <td>175</td>\n",
       "      <td>10</td>\n",
       "      <td>113</td>\n",
       "      <td>2020-01-24</td>\n",
       "      <td>0.87</td>\n",
       "      <td>1</td>\n",
       "      <td>165</td>\n",
       "      <td>275.0</td>\n",
       "    </tr>\n",
       "    <tr>\n",
       "      <th>42</th>\n",
       "      <td>15385</td>\n",
       "      <td>Very, very cozy place</td>\n",
       "      <td>60252</td>\n",
       "      <td>Cristina</td>\n",
       "      <td>Brooklyn</td>\n",
       "      <td>Williamsburg</td>\n",
       "      <td>40.71185</td>\n",
       "      <td>-73.96204</td>\n",
       "      <td>Private room</td>\n",
       "      <td>80</td>\n",
       "      <td>7</td>\n",
       "      <td>49</td>\n",
       "      <td>2020-02-07</td>\n",
       "      <td>0.39</td>\n",
       "      <td>1</td>\n",
       "      <td>229</td>\n",
       "      <td>180.0</td>\n",
       "    </tr>\n",
       "    <tr>\n",
       "      <th>...</th>\n",
       "      <td>...</td>\n",
       "      <td>...</td>\n",
       "      <td>...</td>\n",
       "      <td>...</td>\n",
       "      <td>...</td>\n",
       "      <td>...</td>\n",
       "      <td>...</td>\n",
       "      <td>...</td>\n",
       "      <td>...</td>\n",
       "      <td>...</td>\n",
       "      <td>...</td>\n",
       "      <td>...</td>\n",
       "      <td>...</td>\n",
       "      <td>...</td>\n",
       "      <td>...</td>\n",
       "      <td>...</td>\n",
       "      <td>...</td>\n",
       "    </tr>\n",
       "    <tr>\n",
       "      <th>46484</th>\n",
       "      <td>44746041</td>\n",
       "      <td>Modern, light-filled apartment in Wiliamsburg</td>\n",
       "      <td>3317380</td>\n",
       "      <td>Marge</td>\n",
       "      <td>Brooklyn</td>\n",
       "      <td>Williamsburg</td>\n",
       "      <td>40.71372</td>\n",
       "      <td>-73.95407</td>\n",
       "      <td>Entire home/apt</td>\n",
       "      <td>250</td>\n",
       "      <td>7</td>\n",
       "      <td>0</td>\n",
       "      <td>NaN</td>\n",
       "      <td>NaN</td>\n",
       "      <td>1</td>\n",
       "      <td>164</td>\n",
       "      <td>350.0</td>\n",
       "    </tr>\n",
       "    <tr>\n",
       "      <th>46489</th>\n",
       "      <td>44749327</td>\n",
       "      <td>Luxury 3 bedroom apartment Williamsburg ROOF P...</td>\n",
       "      <td>334780877</td>\n",
       "      <td>Pedro &amp; Maria</td>\n",
       "      <td>Brooklyn</td>\n",
       "      <td>Williamsburg</td>\n",
       "      <td>40.70902</td>\n",
       "      <td>-73.95610</td>\n",
       "      <td>Entire home/apt</td>\n",
       "      <td>464</td>\n",
       "      <td>4</td>\n",
       "      <td>0</td>\n",
       "      <td>NaN</td>\n",
       "      <td>NaN</td>\n",
       "      <td>1</td>\n",
       "      <td>344</td>\n",
       "      <td>564.0</td>\n",
       "    </tr>\n",
       "    <tr>\n",
       "      <th>46493</th>\n",
       "      <td>44753863</td>\n",
       "      <td>Bright, spacious East Williamsburg loft</td>\n",
       "      <td>38062951</td>\n",
       "      <td>Nathan</td>\n",
       "      <td>Brooklyn</td>\n",
       "      <td>Williamsburg</td>\n",
       "      <td>40.70372</td>\n",
       "      <td>-73.93492</td>\n",
       "      <td>Entire home/apt</td>\n",
       "      <td>100</td>\n",
       "      <td>7</td>\n",
       "      <td>0</td>\n",
       "      <td>NaN</td>\n",
       "      <td>NaN</td>\n",
       "      <td>1</td>\n",
       "      <td>146</td>\n",
       "      <td>200.0</td>\n",
       "    </tr>\n",
       "    <tr>\n",
       "      <th>46513</th>\n",
       "      <td>44800276</td>\n",
       "      <td>Williamsburg 1 Bedroom, Spacious and Classy</td>\n",
       "      <td>361034257</td>\n",
       "      <td>Angelo + Amirah</td>\n",
       "      <td>Brooklyn</td>\n",
       "      <td>Williamsburg</td>\n",
       "      <td>40.71283</td>\n",
       "      <td>-73.95400</td>\n",
       "      <td>Entire home/apt</td>\n",
       "      <td>180</td>\n",
       "      <td>7</td>\n",
       "      <td>0</td>\n",
       "      <td>NaN</td>\n",
       "      <td>NaN</td>\n",
       "      <td>1</td>\n",
       "      <td>364</td>\n",
       "      <td>280.0</td>\n",
       "    </tr>\n",
       "    <tr>\n",
       "      <th>46517</th>\n",
       "      <td>44802032</td>\n",
       "      <td>A very large room in Williamsburg</td>\n",
       "      <td>213793805</td>\n",
       "      <td>Omer</td>\n",
       "      <td>Brooklyn</td>\n",
       "      <td>Williamsburg</td>\n",
       "      <td>40.71970</td>\n",
       "      <td>-73.95632</td>\n",
       "      <td>Private room</td>\n",
       "      <td>55</td>\n",
       "      <td>14</td>\n",
       "      <td>0</td>\n",
       "      <td>NaN</td>\n",
       "      <td>NaN</td>\n",
       "      <td>1</td>\n",
       "      <td>45</td>\n",
       "      <td>155.0</td>\n",
       "    </tr>\n",
       "  </tbody>\n",
       "</table>\n",
       "<p>3486 rows × 17 columns</p>\n",
       "</div>"
      ],
      "text/plain": [
       "             id                                               name    host_id  \\\n",
       "11         6848                   Only 2 stops to Manhattan studio      15991   \n",
       "15         7801                   Sweet and Spacious Brooklyn Loft      21207   \n",
       "35        14290                         * ORIGINAL BROOKLYN LOFT *      56104   \n",
       "38        14377                   Williamsburg 1 bedroom Apartment      56512   \n",
       "42        15385                              Very, very cozy place      60252   \n",
       "...         ...                                                ...        ...   \n",
       "46484  44746041      Modern, light-filled apartment in Wiliamsburg    3317380   \n",
       "46489  44749327  Luxury 3 bedroom apartment Williamsburg ROOF P...  334780877   \n",
       "46493  44753863            Bright, spacious East Williamsburg loft   38062951   \n",
       "46513  44800276        Williamsburg 1 Bedroom, Spacious and Classy  361034257   \n",
       "46517  44802032                  A very large room in Williamsburg  213793805   \n",
       "\n",
       "             host_name neighbourhood_group neighbourhood  latitude  longitude  \\\n",
       "11       Allen & Irina            Brooklyn  Williamsburg  40.70837  -73.95352   \n",
       "15               Chaya            Brooklyn  Williamsburg  40.71842  -73.95718   \n",
       "35               James            Brooklyn  Williamsburg  40.70420  -73.93560   \n",
       "38              Joanna            Brooklyn  Williamsburg  40.70881  -73.95930   \n",
       "42            Cristina            Brooklyn  Williamsburg  40.71185  -73.96204   \n",
       "...                ...                 ...           ...       ...        ...   \n",
       "46484            Marge            Brooklyn  Williamsburg  40.71372  -73.95407   \n",
       "46489    Pedro & Maria            Brooklyn  Williamsburg  40.70902  -73.95610   \n",
       "46493           Nathan            Brooklyn  Williamsburg  40.70372  -73.93492   \n",
       "46513  Angelo + Amirah            Brooklyn  Williamsburg  40.71283  -73.95400   \n",
       "46517             Omer            Brooklyn  Williamsburg  40.71970  -73.95632   \n",
       "\n",
       "             room_type  price  minimum_nights  number_of_reviews last_review  \\\n",
       "11     Entire home/apt    109               2                181  2020-03-16   \n",
       "15     Entire home/apt    299               3                  9  2011-12-28   \n",
       "35     Entire home/apt    131               3                 95  2020-05-28   \n",
       "38     Entire home/apt    175              10                113  2020-01-24   \n",
       "42        Private room     80               7                 49  2020-02-07   \n",
       "...                ...    ...             ...                ...         ...   \n",
       "46484  Entire home/apt    250               7                  0         NaN   \n",
       "46489  Entire home/apt    464               4                  0         NaN   \n",
       "46493  Entire home/apt    100               7                  0         NaN   \n",
       "46513  Entire home/apt    180               7                  0         NaN   \n",
       "46517     Private room     55              14                  0         NaN   \n",
       "\n",
       "       reviews_per_month  calculated_host_listings_count  availability_365  \\\n",
       "11                  1.32                               1                 0   \n",
       "15                  0.07                               1               337   \n",
       "35                  0.73                               1               164   \n",
       "38                  0.87                               1               165   \n",
       "42                  0.39                               1               229   \n",
       "...                  ...                             ...               ...   \n",
       "46484                NaN                               1               164   \n",
       "46489                NaN                               1               344   \n",
       "46493                NaN                               1               146   \n",
       "46513                NaN                               1               364   \n",
       "46517                NaN                               1                45   \n",
       "\n",
       "       adjusted_price  \n",
       "11              209.0  \n",
       "15              399.0  \n",
       "35              231.0  \n",
       "38              275.0  \n",
       "42              180.0  \n",
       "...               ...  \n",
       "46484           350.0  \n",
       "46489           564.0  \n",
       "46493           200.0  \n",
       "46513           280.0  \n",
       "46517           155.0  \n",
       "\n",
       "[3486 rows x 17 columns]"
      ]
     },
     "execution_count": 40,
     "metadata": {},
     "output_type": "execute_result"
    }
   ],
   "source": [
    "# 5. Create a new column called `adjusted_price` that has $100 added to every listing in Williamsburg.  \n",
    "# The prices for all other listings should be the same as the were before. \n",
    "conditionAP = df['neighbourhood'] == 'Williamsburg'\n",
    "df['adjusted_price'] = df[conditionAP]['price'] + 100\n",
    "\n",
    "df[conditionAP]"
   ]
  },
  {
   "cell_type": "code",
   "execution_count": 53,
   "metadata": {},
   "outputs": [
    {
     "name": "stdout",
     "output_type": "stream",
     "text": [
      "Percentage of private room is 45.444580566122895\n",
      "Percentage of shared room is 2.12134889419047\n"
     ]
    }
   ],
   "source": [
    "# 6. What % of the rooms are private, and what % of the rooms are shared.  \n",
    "conditionP = df['room_type'] == 'Private room'\n",
    "conditionPu = df['room_type'] == 'Shared room'\n",
    "\n",
    "privatePercentage = (len(df[conditionP])/ len(df)) * 100\n",
    "sharedPercentage = (len(df[conditionPu])/ len(df)) * 100\n",
    "\n",
    "print(\"Percentage of private room is\", privatePercentage,)\n",
    "print(\"Percentage of shared room is\", sharedPercentage,)\n"
   ]
  },
  {
   "cell_type": "markdown",
   "metadata": {},
   "source": [
    "# Exercise 3 - Grouping\n",
    "\n",
    "1. Using `groupby`, count how many listings are in each neighbourhood_group.\n",
    "\n",
    "\n",
    "2. Using `groupby`, find the mean price for each of the neighbourhood_groups. \n",
    "\n",
    "\n",
    "3. Using `groupby` and `.agg()`, find the min and max price for each of the neighbourhood_groups. \n",
    "\n",
    "\n",
    "4. Using `groupby`, find the median price for each room type in each neighbourhood_group.\n",
    "\n",
    "\n",
    "5. Using `groupby` and `.agg()`, find the count, min, max, mean, median, and std of the prices for each room type in each neighbourhood_group."
   ]
  },
  {
   "cell_type": "code",
   "execution_count": 54,
   "metadata": {},
   "outputs": [
    {
     "data": {
      "text/plain": [
       "neighbourhood_group\n",
       "Bronx             1183\n",
       "Brooklyn         18632\n",
       "Manhattan        20580\n",
       "Queens            5791\n",
       "Staten Island      341\n",
       "Name: count, dtype: int64"
      ]
     },
     "execution_count": 54,
     "metadata": {},
     "output_type": "execute_result"
    }
   ],
   "source": [
    "# 1. Using `groupby`, count how many listings are in each neighbourhood_group.\n",
    "\n",
    "group = df.groupby('neighbourhood_group')\n",
    "group['neighbourhood_group'].value_counts()\n"
   ]
  },
  {
   "cell_type": "code",
   "execution_count": 55,
   "metadata": {},
   "outputs": [
    {
     "data": {
      "text/plain": [
       "neighbourhood_group\n",
       "Bronx             92.751479\n",
       "Brooklyn         120.225258\n",
       "Manhattan        191.880466\n",
       "Queens            99.754965\n",
       "Staten Island    110.947214\n",
       "Name: price, dtype: float64"
      ]
     },
     "execution_count": 55,
     "metadata": {},
     "output_type": "execute_result"
    }
   ],
   "source": [
    "# 2. Using `groupby`, find the mean price for each of the neighbourhood_groups. \n",
    "group['price'].mean()\n",
    "\n"
   ]
  },
  {
   "cell_type": "code",
   "execution_count": 56,
   "metadata": {},
   "outputs": [
    {
     "data": {
      "text/plain": [
       "room_type\n",
       "Entire home/apt    199.395950\n",
       "Hotel room         275.015075\n",
       "Private room        91.453084\n",
       "Shared room         87.063830\n",
       "Name: price, dtype: float64"
      ]
     },
     "execution_count": 56,
     "metadata": {},
     "output_type": "execute_result"
    }
   ],
   "source": [
    "# 2.5. Using `groupby`, find the mean price for each room_type. \n",
    "group1 = df.groupby('room_type')\n",
    "group1['price'].mean()"
   ]
  },
  {
   "cell_type": "code",
   "execution_count": 59,
   "metadata": {},
   "outputs": [
    {
     "data": {
      "text/html": [
       "<div>\n",
       "<style scoped>\n",
       "    .dataframe tbody tr th:only-of-type {\n",
       "        vertical-align: middle;\n",
       "    }\n",
       "\n",
       "    .dataframe tbody tr th {\n",
       "        vertical-align: top;\n",
       "    }\n",
       "\n",
       "    .dataframe thead th {\n",
       "        text-align: right;\n",
       "    }\n",
       "</style>\n",
       "<table border=\"1\" class=\"dataframe\">\n",
       "  <thead>\n",
       "    <tr style=\"text-align: right;\">\n",
       "      <th></th>\n",
       "      <th>min</th>\n",
       "      <th>max</th>\n",
       "    </tr>\n",
       "    <tr>\n",
       "      <th>neighbourhood_group</th>\n",
       "      <th></th>\n",
       "      <th></th>\n",
       "    </tr>\n",
       "  </thead>\n",
       "  <tbody>\n",
       "    <tr>\n",
       "      <th>Bronx</th>\n",
       "      <td>16</td>\n",
       "      <td>1404</td>\n",
       "    </tr>\n",
       "    <tr>\n",
       "      <th>Brooklyn</th>\n",
       "      <td>0</td>\n",
       "      <td>10000</td>\n",
       "    </tr>\n",
       "    <tr>\n",
       "      <th>Manhattan</th>\n",
       "      <td>0</td>\n",
       "      <td>10000</td>\n",
       "    </tr>\n",
       "    <tr>\n",
       "      <th>Queens</th>\n",
       "      <td>0</td>\n",
       "      <td>10000</td>\n",
       "    </tr>\n",
       "    <tr>\n",
       "      <th>Staten Island</th>\n",
       "      <td>19</td>\n",
       "      <td>1200</td>\n",
       "    </tr>\n",
       "  </tbody>\n",
       "</table>\n",
       "</div>"
      ],
      "text/plain": [
       "                     min    max\n",
       "neighbourhood_group            \n",
       "Bronx                 16   1404\n",
       "Brooklyn               0  10000\n",
       "Manhattan              0  10000\n",
       "Queens                 0  10000\n",
       "Staten Island         19   1200"
      ]
     },
     "execution_count": 59,
     "metadata": {},
     "output_type": "execute_result"
    }
   ],
   "source": [
    "# 3. Using `groupby` and `.agg()`, find the min and max price for each of the neighbourhood_groups. \n",
    "group2 = df.groupby('neighbourhood_group')\n",
    "group2['price'].agg(['min','max'])\n",
    "\n"
   ]
  },
  {
   "cell_type": "code",
   "execution_count": 62,
   "metadata": {},
   "outputs": [
    {
     "data": {
      "text/plain": [
       "neighbourhood_group  room_type      \n",
       "Bronx                Entire home/apt    138.004819\n",
       "                     Private room        68.419668\n",
       "                     Shared room         66.391304\n",
       "Brooklyn             Entire home/apt    171.587687\n",
       "                     Hotel room         147.300000\n",
       "                     Private room        71.291189\n",
       "                     Shared room         57.870091\n",
       "Manhattan            Entire home/apt    231.335572\n",
       "                     Hotel room         292.515670\n",
       "                     Private room       128.277069\n",
       "                     Shared room        111.735084\n",
       "Queens               Entire home/apt    150.168900\n",
       "                     Hotel room         139.058824\n",
       "                     Private room        69.972564\n",
       "                     Shared room         89.891892\n",
       "Staten Island        Entire home/apt    151.720930\n",
       "                     Private room        70.312883\n",
       "                     Shared room         46.000000\n",
       "Name: price, dtype: float64"
      ]
     },
     "execution_count": 62,
     "metadata": {},
     "output_type": "execute_result"
    }
   ],
   "source": [
    "# 4. Using `groupby`, find the mean price for each room_type in each neighbourhood_group.\n",
    "groupby_cols = ['neighbourhood_group', 'room_type']\n",
    "gb = df.groupby(groupby_cols)\n",
    "gb['price'].mean()"
   ]
  },
  {
   "cell_type": "code",
   "execution_count": 65,
   "metadata": {},
   "outputs": [
    {
     "data": {
      "text/html": [
       "<div>\n",
       "<style scoped>\n",
       "    .dataframe tbody tr th:only-of-type {\n",
       "        vertical-align: middle;\n",
       "    }\n",
       "\n",
       "    .dataframe tbody tr th {\n",
       "        vertical-align: top;\n",
       "    }\n",
       "\n",
       "    .dataframe thead th {\n",
       "        text-align: right;\n",
       "    }\n",
       "</style>\n",
       "<table border=\"1\" class=\"dataframe\">\n",
       "  <thead>\n",
       "    <tr style=\"text-align: right;\">\n",
       "      <th></th>\n",
       "      <th>count</th>\n",
       "      <th>min</th>\n",
       "      <th>max</th>\n",
       "      <th>mean</th>\n",
       "      <th>median</th>\n",
       "      <th>std</th>\n",
       "    </tr>\n",
       "    <tr>\n",
       "      <th>neighbourhood_group</th>\n",
       "      <th></th>\n",
       "      <th></th>\n",
       "      <th></th>\n",
       "      <th></th>\n",
       "      <th></th>\n",
       "      <th></th>\n",
       "    </tr>\n",
       "  </thead>\n",
       "  <tbody>\n",
       "    <tr>\n",
       "      <th>Bronx</th>\n",
       "      <td>1183</td>\n",
       "      <td>16</td>\n",
       "      <td>1404</td>\n",
       "      <td>92.751479</td>\n",
       "      <td>69.0</td>\n",
       "      <td>95.787081</td>\n",
       "    </tr>\n",
       "    <tr>\n",
       "      <th>Brooklyn</th>\n",
       "      <td>18632</td>\n",
       "      <td>0</td>\n",
       "      <td>10000</td>\n",
       "      <td>120.225258</td>\n",
       "      <td>90.0</td>\n",
       "      <td>180.136376</td>\n",
       "    </tr>\n",
       "    <tr>\n",
       "      <th>Manhattan</th>\n",
       "      <td>20580</td>\n",
       "      <td>0</td>\n",
       "      <td>10000</td>\n",
       "      <td>191.880466</td>\n",
       "      <td>129.0</td>\n",
       "      <td>428.682578</td>\n",
       "    </tr>\n",
       "    <tr>\n",
       "      <th>Queens</th>\n",
       "      <td>5791</td>\n",
       "      <td>0</td>\n",
       "      <td>10000</td>\n",
       "      <td>99.754965</td>\n",
       "      <td>70.0</td>\n",
       "      <td>207.648739</td>\n",
       "    </tr>\n",
       "    <tr>\n",
       "      <th>Staten Island</th>\n",
       "      <td>341</td>\n",
       "      <td>19</td>\n",
       "      <td>1200</td>\n",
       "      <td>110.947214</td>\n",
       "      <td>79.0</td>\n",
       "      <td>122.676152</td>\n",
       "    </tr>\n",
       "  </tbody>\n",
       "</table>\n",
       "</div>"
      ],
      "text/plain": [
       "                     count  min    max        mean  median         std\n",
       "neighbourhood_group                                                   \n",
       "Bronx                 1183   16   1404   92.751479    69.0   95.787081\n",
       "Brooklyn             18632    0  10000  120.225258    90.0  180.136376\n",
       "Manhattan            20580    0  10000  191.880466   129.0  428.682578\n",
       "Queens                5791    0  10000   99.754965    70.0  207.648739\n",
       "Staten Island          341   19   1200  110.947214    79.0  122.676152"
      ]
     },
     "execution_count": 65,
     "metadata": {},
     "output_type": "execute_result"
    }
   ],
   "source": [
    "# 5. Using `groupby` and `.agg()`, find the count, min, max, mean, median, and std of the prices \n",
    "# for each room type in each neighbourhood_group.\n",
    "\n",
    "gb = df.groupby('neighbourhood_group')\n",
    "gb['price'].agg( ['count', 'min', 'max', 'mean', 'median', 'std'] )\n",
    "\n"
   ]
  },
  {
   "cell_type": "markdown",
   "metadata": {},
   "source": [
    "# Load, Merge, and Export files.\n",
    "1. Load the `prices.csv` and the `n_listings.csv`\n",
    "    * Having an error..? Inspect the actual csv file if you're having trouble\n",
    "\n",
    "2. Do join that keeps all the records for each table.\n",
    "    * Neighbourhood groups should include ['Bronx', 'Brooklyn', 'Manhattan', 'Queens', 'Staten Island',\n",
    "       'LongIsland']\n",
    "\n",
    "       \n",
    "3. Save your joined csv as `joined.csv` into the data folder. \n",
    "\n",
    "\n",
    "4. Load your saved table and see if it looks the same or different that the DataFrame you used to create it. "
   ]
  },
  {
   "cell_type": "code",
   "execution_count": 43,
   "metadata": {},
   "outputs": [],
   "source": [
    "# 1. Load the `prices.csv` and the `n_listings.csv`\n",
    "dfPrices = pd.read_csv('data/prices.csv')\n",
    "dfListings = pd.read_csv('data/n_listings.csv', sep=\";\")"
   ]
  },
  {
   "cell_type": "code",
   "execution_count": 46,
   "metadata": {},
   "outputs": [],
   "source": [
    "# 2. Do join that keeps all the records for each table.\n",
    "join = pd.merge(dfPrices, dfListings, on='neighbourhood_group')\n",
    "\n",
    "# Joined using the relation of neighbourhood_group"
   ]
  },
  {
   "cell_type": "code",
   "execution_count": 47,
   "metadata": {},
   "outputs": [],
   "source": [
    "# 3. Save your joined csv as `joined.csv` into the data folder. \n",
    "join.to_csv('data/joined.csv', index=False)"
   ]
  },
  {
   "cell_type": "code",
   "execution_count": 48,
   "metadata": {},
   "outputs": [],
   "source": [
    "# 4. Load your newly saved file, see if it looks the same.  If not, try saving with argument `index=False`\n",
    "dfNew = pd.read_csv('data/joined.csv')"
   ]
  },
  {
   "cell_type": "markdown",
   "metadata": {},
   "source": [
    "# Extra Credit\n",
    "Every question below this cell is extra credit and optional."
   ]
  },
  {
   "cell_type": "markdown",
   "metadata": {},
   "source": [
    "### 1. (Easy) Explore this new PandasAI Package and tell me what its all about because I've never used it. \n",
    "* https://www.youtube.com/watch?v=5w6eZaoDVVk&ab_channel=CodingIsFun  \n",
    "* See if you can use it on the listings.csv to find out some cool info. or answer some of the questions above. "
   ]
  },
  {
   "cell_type": "markdown",
   "metadata": {},
   "source": [
    "### 2. (Very Easy) Find other cool Panda packages / add ons and show us what they can do well. And how you installed them. "
   ]
  },
  {
   "cell_type": "markdown",
   "metadata": {},
   "source": [
    "### 3. (Medium) Use the grammys.csv data for the next section of questions.\n",
    "\n",
    "1. Who was won Album of the Year in 2016?\n",
    "\n",
    "\n",
    "2. Who won Best Rap Album in 2009?\n",
    "\n",
    "\n",
    "3. How many awards was Kendrick Lamar nomiated for, and how many did he win...?"
   ]
  },
  {
   "cell_type": "markdown",
   "metadata": {},
   "source": [
    "### (Hard) Load the Game Logs for 2022 and add the column names using a dictionary.  \n",
    "* [Link to the data page](https://www.retrosheet.org/gamelogs/)\n",
    "* [Link to the column names](https://procatinator.com/)\n",
    "* haha, gotta find them yourself!"
   ]
  },
  {
   "cell_type": "markdown",
   "metadata": {},
   "source": [
    "### (Extra Hard) Download the files for the past 5 years into a new folder and add them all into one data frame using pandas, then save that new file.\n",
    "* Try to not hard code in the file names. We want to do this programmatically because what if we want to add new/more file names in the future."
   ]
  },
  {
   "cell_type": "code",
   "execution_count": null,
   "metadata": {},
   "outputs": [],
   "source": []
  }
 ],
 "metadata": {
  "kernelspec": {
   "display_name": "Python 3 (ipykernel)",
   "language": "python",
   "name": "python3"
  },
  "language_info": {
   "codemirror_mode": {
    "name": "ipython",
    "version": 3
   },
   "file_extension": ".py",
   "mimetype": "text/x-python",
   "name": "python",
   "nbconvert_exporter": "python",
   "pygments_lexer": "ipython3",
   "version": "3.12.3"
  }
 },
 "nbformat": 4,
 "nbformat_minor": 4
}
